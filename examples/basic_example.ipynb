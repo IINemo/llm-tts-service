{
 "cells": [
  {
   "cell_type": "code",
   "execution_count": null,
   "id": "a2d69cc3",
   "metadata": {},
   "outputs": [],
   "source": [
    "import sys\n",
    "import os\n",
    "sys.path.insert(0, os.path.abspath(os.path.join(os.path.dirname(__file__), '..')))\n"
   ]
  },
  {
   "cell_type": "code",
   "execution_count": null,
   "id": "b5964988",
   "metadata": {},
   "outputs": [],
   "source": [
    "# I need an example for genereating from the reasoning LLM\n",
    "from llm_tts.llm import get_reasoning_llm\n",
    "\n",
    "# Instantiate the reasoning LLM (you can specify model_name or use default)\n",
    "llm = get_reasoning_llm(model_name=\"gpt-4\")  # or another supported model like \"gpt-3.5-turbo\"\n",
    "\n",
    "# Example 1: Simple reasoning task\n",
    "prompt1 = \"If a train travels 60 miles per hour and needs to cover 180 miles, how long will the journey take? Show your reasoning step by step.\"\n",
    "\n",
    "response1 = llm.generate(prompt1)\n",
    "print(\"=== Example 1: Math Reasoning ===\")\n",
    "print(\"Prompt:\", prompt1)\n",
    "print(\"Response:\", response1)\n",
    "print()\n",
    "\n",
    "# Example 2: Logical reasoning\n",
    "prompt2 = \"All birds can fly. Penguins are birds. Can penguins fly? Explain your reasoning and identify any issues with the premises.\"\n",
    "\n",
    "response2 = llm.generate(prompt2)\n",
    "print(\"=== Example 2: Logical Reasoning ===\")\n",
    "print(\"Prompt:\", prompt2)\n",
    "print(\"Response:\", response2)\n",
    "print()\n",
    "\n",
    "# Example 3: Multi-step problem solving\n",
    "prompt3 = \"A company has 100 employees. 60% work in engineering, 25% in sales, and the rest in administration. If the company wants to hire 20 more people and maintain the same proportions, how many new hires should go to each department?\"\n",
    "\n",
    "response3 = llm.generate(prompt3)\n",
    "print(\"=== Example 3: Multi-step Problem Solving ===\")\n",
    "print(\"Prompt:\", prompt3)\n",
    "print(\"Response:\", response3)\n",
    "\n"
   ]
  }
 ],
 "metadata": {
  "kernelspec": {
   "display_name": "Python 3",
   "language": "python",
   "name": "python3"
  },
  "language_info": {
   "name": "python",
   "version": "3.13.5"
  }
 },
 "nbformat": 4,
 "nbformat_minor": 5
}
